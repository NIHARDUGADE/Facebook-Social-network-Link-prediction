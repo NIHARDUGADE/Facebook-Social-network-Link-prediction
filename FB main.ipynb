{
 "cells": [
  {
   "cell_type": "code",
   "execution_count": 1,
   "id": "062429fd",
   "metadata": {},
   "outputs": [],
   "source": [
    "#Importing Libraries\n",
    "# please do go through this python notebook: \n",
    "import warnings\n",
    "warnings.filterwarnings(\"ignore\")\n",
    "from sklearn.metrics import log_loss,accuracy_score,roc_curve,auc\n",
    "\n",
    "import csv\n",
    "import pandas as pd#pandas to create small dataframes \n",
    "import datetime #Convert to unix time\n",
    "import time #Convert to unix time\n",
    "# if numpy is not installed already : pip3 install numpy\n",
    "import numpy as np#Do aritmetic operations on arrays\n",
    "# matplotlib: used to plot graphs\n",
    "import matplotlib\n",
    "import matplotlib.pylab as plt\n",
    "import seaborn as sns#Plots\n",
    "from matplotlib import rcParams#Size of plots  \n",
    "from sklearn.cluster import MiniBatchKMeans, KMeans#Clustering\n",
    "import math\n",
    "import pickle\n",
    "import os\n",
    "# to install xgboost: pip3 install xgboost\n",
    "import xgboost as xgb\n",
    "\n",
    "import warnings\n",
    "import networkx as nx\n",
    "import pdb\n",
    "import pickle\n",
    "from pandas import HDFStore,DataFrame\n",
    "from pandas import read_hdf\n",
    "from scipy.sparse.linalg import svds, eigs\n",
    "import gc\n",
    "from tqdm import tqdm\n",
    "from sklearn.ensemble import RandomForestClassifier\n",
    "from sklearn.metrics import f1_score\n",
    "from sklearn.model_selection import RandomizedSearchCV\n",
    "from sklearn.calibration import CalibratedClassifierCV"
   ]
  },
  {
   "cell_type": "markdown",
   "id": "47eacbe8",
   "metadata": {},
   "source": [
    "# Assignments:\n",
    "\n",
    "1. Add another feature called  Preferential Attachment  with followers and followees data of vertex. you can check about Preferential Attachment in below link\n",
    "http://be.amazd.com/link-prediction/ <br>\n",
    "2. Add  feature called svd_dot. you can calculate svd_dot as Dot product between sourse node svd and destination node svd features.  you can read about this in below pdf \n",
    "https://storage.googleapis.com/kaggle-forum-message-attachments/2594/supervised_link_prediction.pdf<br>\n",
    "3. Tune hyperparameters for XG boost with all these features and check the error metric."
   ]
  },
  {
   "cell_type": "code",
   "execution_count": 2,
   "id": "22967f93",
   "metadata": {},
   "outputs": [],
   "source": [
    "df_final_train= pd.read_hdf('storage_sample_stage4.h5','train_df', mode='r')\n",
    "df_final_test= pd.read_hdf('storage_sample_stage4.h5','test_df',mode='r')"
   ]
  },
  {
   "cell_type": "markdown",
   "id": "eff62627",
   "metadata": {},
   "source": [
    "# FEATURIZATIONS\n",
    "\n",
    "- Adding features like preferential attahment score for followers and followees & svd dot feature."
   ]
  },
  {
   "cell_type": "code",
   "execution_count": 3,
   "id": "0c4147ff",
   "metadata": {},
   "outputs": [],
   "source": [
    "def preferential_attachment(data):\n",
    "    prefrential_score=[]\n",
    "    no_of_followers_s=data['num_followers_s']\n",
    "    no_of_followers_d=data['num_followers_d']\n",
    "    for i in range (len(data)):\n",
    "        score=no_of_followers_s[i]*no_of_followers_d[i]\n",
    "        prefrential_score.append(score)\n",
    "    return prefrential_score"
   ]
  },
  {
   "cell_type": "code",
   "execution_count": 4,
   "id": "dc5f2cb4",
   "metadata": {},
   "outputs": [],
   "source": [
    "def preferential_attachment_followees(data):\n",
    "    prefrential_score_followees=[]\n",
    "    no_of_followees_s=data['num_followees_s']\n",
    "    no_of_followees_d=data['num_followees_d']\n",
    "    for i in range (len(data)):\n",
    "        score=no_of_followees_s[i]*no_of_followees_d[i]\n",
    "        prefrential_score_followees.append(score)\n",
    "    return prefrential_score_followees\n",
    "    "
   ]
  },
  {
   "cell_type": "code",
   "execution_count": 6,
   "id": "7c94b521",
   "metadata": {},
   "outputs": [],
   "source": [
    "def svd_dot_v(data):\n",
    "    \n",
    "    dot_product_v=[]\n",
    "    for i in range(len(data['svd_v_s_1'])):\n",
    "        svd_v_s=[]\n",
    "        svd_v_d=[]\n",
    "        svd_v_s.append(data['svd_v_s_1'][i])\n",
    "        svd_v_s.append(data['svd_v_s_2'][i])\n",
    "        svd_v_s.append(data['svd_v_s_3'][i])\n",
    "        svd_v_s.append(data['svd_v_s_4'][i])\n",
    "        svd_v_s.append(data['svd_v_s_5'][i])\n",
    "        svd_v_s.append(data['svd_v_s_6'][i])\n",
    "        \n",
    "        svd_v_d.append(data['svd_v_d_1'][i])\n",
    "        svd_v_d.append(data['svd_v_d_2'][i])\n",
    "        svd_v_d.append(data['svd_v_d_3'][i])\n",
    "        svd_v_d.append(data['svd_v_d_4'][i])\n",
    "        svd_v_d.append(data['svd_v_d_5'][i])\n",
    "        svd_v_d.append(data['svd_v_d_6'][i])\n",
    "        \n",
    "        dot_product_v.append(np.dot(svd_v_s,svd_v_d))\n",
    "    \n",
    "    return dot_product_v\n",
    "    "
   ]
  },
  {
   "cell_type": "code",
   "execution_count": 7,
   "id": "2685a905",
   "metadata": {},
   "outputs": [],
   "source": [
    "def svd_dot_u(data):\n",
    "   \n",
    "    dot_product=[]\n",
    "    for i in range(len(data['svd_u_s_1'])):\n",
    "        svd_u_s=[]\n",
    "        svd_u_d=[]\n",
    "        svd_u_s.append(data['svd_u_s_1'][i])\n",
    "        svd_u_s.append(data['svd_u_s_2'][i])\n",
    "        svd_u_s.append(data['svd_u_s_3'][i])\n",
    "        svd_u_s.append(data['svd_u_s_4'][i])\n",
    "        svd_u_s.append(data['svd_u_s_5'][i])\n",
    "        svd_u_s.append(data['svd_u_s_6'][i])\n",
    "        \n",
    "        svd_u_d.append(data['svd_u_d_1'][i])\n",
    "        svd_u_d.append(data['svd_u_d_2'][i])\n",
    "        svd_u_d.append(data['svd_u_d_3'][i])\n",
    "        svd_u_d.append(data['svd_u_d_4'][i])\n",
    "        svd_u_d.append(data['svd_u_d_5'][i])\n",
    "        svd_u_d.append(data['svd_u_d_6'][i])\n",
    "        \n",
    "        dot_product.append(np.dot(svd_u_s,svd_u_d))\n",
    "    \n",
    "    return dot_product\n",
    "        \n",
    "    \n",
    "    "
   ]
  },
  {
   "cell_type": "code",
   "execution_count": 8,
   "id": "baa99e19",
   "metadata": {},
   "outputs": [],
   "source": [
    "if not os.path.isfile('storage_sample_stage5.h5'):\n",
    "    \n",
    "    df_final_train['preferential_attachment_followers']=preferential_attachment(df_final_train)\n",
    "    df_final_test['preferential_attachment_followers']=preferential_attachment(df_final_test)\n",
    "    \n",
    "    df_final_train['preferential_attachment_followees']=preferential_attachment_followees(df_final_train)\n",
    "    df_final_test['preferential_attachment_followees']=preferential_attachment_followees(df_final_test)\n",
    "    \n",
    "    df_final_train['svd_dot_v']=svd_dot_v(df_final_train)\n",
    "    df_final_test['svd_dot_v']=svd_dot_v(df_final_test)\n",
    "    \n",
    "    df_final_train['svd_dot_u']=svd_dot_u(df_final_train)\n",
    "    df_final_test['svd_dot_u']=svd_dot_u(df_final_test)\n",
    "    \n",
    "    \n",
    "    \n",
    "    hdf = HDFStore('storage_sample_stage5.h5')\n",
    "    hdf.put('train_df',df_final_train, format='table', data_columns=True)\n",
    "    hdf.put('test_df',df_final_test, format='table', data_columns=True)\n",
    "    hdf.close()\n",
    "else:\n",
    "    df_final_train = read_hdf('storage_sample_stage5.h5', 'train_df',mode='r')\n",
    "    df_final_test = read_hdf('storage_sample_stage5.h5', 'test_df',mode='r')"
   ]
  },
  {
   "cell_type": "code",
   "execution_count": 9,
   "id": "f62b728e",
   "metadata": {},
   "outputs": [],
   "source": [
    "y_train=df_final_train['indicator_link']\n",
    "y_test=df_final_test['indicator_link']"
   ]
  },
  {
   "cell_type": "code",
   "execution_count": 10,
   "id": "afacfd4f",
   "metadata": {},
   "outputs": [],
   "source": [
    "df_final_train.drop(['source_node', 'destination_node','indicator_link'],axis=1,inplace=True)\n",
    "df_final_test.drop(['source_node', 'destination_node','indicator_link'],axis=1,inplace=True)"
   ]
  },
  {
   "cell_type": "code",
   "execution_count": null,
   "id": "aa93e1da",
   "metadata": {},
   "outputs": [],
   "source": []
  },
  {
   "cell_type": "code",
   "execution_count": null,
   "id": "9a460c95",
   "metadata": {},
   "outputs": [],
   "source": []
  },
  {
   "cell_type": "markdown",
   "id": "b9e6a436",
   "metadata": {},
   "source": [
    "# HYPERPARAMETER TUNING"
   ]
  },
  {
   "cell_type": "code",
   "execution_count": 11,
   "id": "f7036f2e",
   "metadata": {},
   "outputs": [],
   "source": [
    "#https://xgboost.readthedocs.io/en/stable/tutorials/param_tuning.html\n",
    "#https://stackoverflow.com/questions/51022822/subsample-colsample-bytree-colsample-bylevel-in-xgbclassifier-python-3-x\n",
    "\n",
    "params={'n_estimators':[100,200,500,600,700,800,900,1000,1500,2000],\n",
    "        'max_depth': [3, 4, 5],\n",
    "        'learning_rate':[0.0001,0.001,0.002,0.01,0.015,0.1,0.15,0.5,1,100],\n",
    "        'gamma':[0.01,0.1,0.5,1,1.5,2,2.5,3,3.5,4,4.5,5],\n",
    "        'stepsize':[0.0001,0.001,0.01,0.1,1],\n",
    "        'min_child_weight':[1,3,5,6,7,8,9,10,12,15],\n",
    "        'reg_alpha':[0.0001,0.001,0.01,1,10,15,20,30,35,40,45,50],\n",
    "        'subsample':[0.1,0.2,0.3,0.4,0.5,0.6,0.7,0.8,0.9,1.0],\n",
    "        'colsample_bytree':[0.1, 0.2, 0.3, 0.4, 0.5, 0.6, 0.7, 0.8, 0.9, 1.0]\n",
    "        \n",
    "       \n",
    "       }"
   ]
  },
  {
   "cell_type": "code",
   "execution_count": 12,
   "id": "73443a6e",
   "metadata": {},
   "outputs": [
    {
     "name": "stdout",
     "output_type": "stream",
     "text": [
      "[15:46:25] WARNING: C:/Users/Administrator/workspace/xgboost-win64_release_1.5.1/src/learner.cc:576: \n",
      "Parameters: { \"stepsize\" } might not be used.\n",
      "\n",
      "  This could be a false alarm, with some parameters getting used by language bindings but\n",
      "  then being mistakenly passed down to XGBoost core, or some parameter actually being used\n",
      "  but getting flagged wrongly here. Please open an issue if you find any such cases.\n",
      "\n",
      "\n",
      "[15:46:25] WARNING: C:/Users/Administrator/workspace/xgboost-win64_release_1.5.1/src/learner.cc:1115: Starting in XGBoost 1.3.0, the default evaluation metric used with the objective 'binary:logistic' was changed from 'error' to 'logloss'. Explicitly set eval_metric if you'd like to restore the old behavior.\n"
     ]
    },
    {
     "data": {
      "text/plain": [
       "RandomizedSearchCV(cv=10,\n",
       "                   estimator=XGBClassifier(base_score=None, booster=None,\n",
       "                                           colsample_bylevel=None,\n",
       "                                           colsample_bynode=None,\n",
       "                                           colsample_bytree=None,\n",
       "                                           enable_categorical=False, gamma=None,\n",
       "                                           gpu_id=None, importance_type=None,\n",
       "                                           interaction_constraints=None,\n",
       "                                           learning_rate=None,\n",
       "                                           max_delta_step=None, max_depth=None,\n",
       "                                           min_child_weight=None, missing=nan,\n",
       "                                           monotone_constraint...\n",
       "                                        'learning_rate': [0.0001, 0.001, 0.002,\n",
       "                                                          0.01, 0.015, 0.1,\n",
       "                                                          0.15, 0.5, 1, 100],\n",
       "                                        'max_depth': [3, 4, 5],\n",
       "                                        'min_child_weight': [1, 3, 5, 6, 7, 8,\n",
       "                                                             9, 10, 12, 15],\n",
       "                                        'n_estimators': [100, 200, 500, 600,\n",
       "                                                         700, 800, 900, 1000,\n",
       "                                                         1500, 2000],\n",
       "                                        'reg_alpha': [0.0001, 0.001, 0.01, 1,\n",
       "                                                      10, 15, 20, 30, 35, 40,\n",
       "                                                      45, 50],\n",
       "                                        'stepsize': [0.0001, 0.001, 0.01, 0.1,\n",
       "                                                     1],\n",
       "                                        'subsample': [0.1, 0.2, 0.3, 0.4, 0.5,\n",
       "                                                      0.6, 0.7, 0.8, 0.9,\n",
       "                                                      1.0]},\n",
       "                   random_state=25, scoring='f1')"
      ]
     },
     "execution_count": 12,
     "metadata": {},
     "output_type": "execute_result"
    }
   ],
   "source": [
    "model=xgb.XGBClassifier(tree_method='gpu_hist')\n",
    "randomsearch_clf=RandomizedSearchCV(model,n_iter=7,param_distributions=params,scoring='f1',\n",
    "                                    cv=10,n_jobs=-1,random_state=25)\n",
    "randomsearch_clf.fit(df_final_train,y_train)"
   ]
  },
  {
   "cell_type": "code",
   "execution_count": 13,
   "id": "a2cecb2f",
   "metadata": {
    "scrolled": true
   },
   "outputs": [
    {
     "data": {
      "text/plain": [
       "{'subsample': 0.3,\n",
       " 'stepsize': 0.1,\n",
       " 'reg_alpha': 50,\n",
       " 'n_estimators': 1500,\n",
       " 'min_child_weight': 3,\n",
       " 'max_depth': 5,\n",
       " 'learning_rate': 0.15,\n",
       " 'gamma': 0.5,\n",
       " 'colsample_bytree': 0.8}"
      ]
     },
     "execution_count": 13,
     "metadata": {},
     "output_type": "execute_result"
    }
   ],
   "source": [
    "\n",
    "randomsearch_clf.best_params_"
   ]
  },
  {
   "cell_type": "markdown",
   "id": "f7a1522c",
   "metadata": {},
   "source": [
    "--------------------"
   ]
  },
  {
   "cell_type": "markdown",
   "id": "23592792",
   "metadata": {},
   "source": [
    "# MODELLING"
   ]
  },
  {
   "cell_type": "code",
   "execution_count": 14,
   "id": "09a5b5b1",
   "metadata": {},
   "outputs": [
    {
     "name": "stdout",
     "output_type": "stream",
     "text": [
      "[15:47:37] WARNING: C:/Users/Administrator/workspace/xgboost-win64_release_1.5.1/src/learner.cc:576: \n",
      "Parameters: { \"stepsize\" } might not be used.\n",
      "\n",
      "  This could be a false alarm, with some parameters getting used by language bindings but\n",
      "  then being mistakenly passed down to XGBoost core, or some parameter actually being used\n",
      "  but getting flagged wrongly here. Please open an issue if you find any such cases.\n",
      "\n",
      "\n",
      "[15:47:37] WARNING: C:/Users/Administrator/workspace/xgboost-win64_release_1.5.1/src/learner.cc:1115: Starting in XGBoost 1.3.0, the default evaluation metric used with the objective 'binary:logistic' was changed from 'error' to 'logloss'. Explicitly set eval_metric if you'd like to restore the old behavior.\n"
     ]
    },
    {
     "data": {
      "text/plain": [
       "XGBClassifier(base_score=0.5, booster='gbtree', colsample_bylevel=1,\n",
       "              colsample_bynode=1, colsample_bytree=0.8,\n",
       "              enable_categorical=False, gamma=0.5, gpu_id=0,\n",
       "              importance_type=None, interaction_constraints='',\n",
       "              learning_rate=0.15, max_delta_step=0, max_depth=5,\n",
       "              min_child_weight=3, missing=nan, monotone_constraints='()',\n",
       "              n_estimators=1500, n_jobs=-1, num_parallel_tree=1,\n",
       "              predictor='auto', random_state=0, reg_alpha=50, reg_lambda=1,\n",
       "              scale_pos_weight=1, stepsize=0.1, subsample=0.3,\n",
       "              tree_method='gpu_hist', validate_parameters=1, verbosity=None)"
      ]
     },
     "execution_count": 14,
     "metadata": {},
     "output_type": "execute_result"
    }
   ],
   "source": [
    "\n",
    "xgb_model=xgb.XGBClassifier(n_estimators=1500, reg_alpha=50,max_depth=5,learning_rate=0.15, \n",
    "                            gamma=0.5,min_child_weight=3,\n",
    "                            stepsize=0.1,subsample=0.3 ,colsample_bytree=0.8 ,\n",
    "                            tree_method='gpu_hist',n_jobs=-1,)\n",
    "xgb_model.fit(df_final_train,y_train)"
   ]
  },
  {
   "cell_type": "code",
   "execution_count": 15,
   "id": "ee63b097",
   "metadata": {
    "scrolled": false
   },
   "outputs": [
    {
     "data": {
      "text/plain": [
       "CalibratedClassifierCV(base_estimator=XGBClassifier(base_score=0.5,\n",
       "                                                    booster='gbtree',\n",
       "                                                    colsample_bylevel=1,\n",
       "                                                    colsample_bynode=1,\n",
       "                                                    colsample_bytree=0.8,\n",
       "                                                    enable_categorical=False,\n",
       "                                                    gamma=0.5, gpu_id=0,\n",
       "                                                    importance_type=None,\n",
       "                                                    interaction_constraints='',\n",
       "                                                    learning_rate=0.15,\n",
       "                                                    max_delta_step=0,\n",
       "                                                    max_depth=5,\n",
       "                                                    min_child_weight=3,\n",
       "                                                    missing=nan,\n",
       "                                                    monotone_constraints='()',\n",
       "                                                    n_estimators=1500,\n",
       "                                                    n_jobs=-1,\n",
       "                                                    num_parallel_tree=1,\n",
       "                                                    predictor='auto',\n",
       "                                                    random_state=0,\n",
       "                                                    reg_alpha=50, reg_lambda=1,\n",
       "                                                    scale_pos_weight=1,\n",
       "                                                    stepsize=0.1, subsample=0.3,\n",
       "                                                    tree_method='gpu_hist',\n",
       "                                                    validate_parameters=1,\n",
       "                                                    verbosity=None),\n",
       "                       n_jobs=-1)"
      ]
     },
     "execution_count": 15,
     "metadata": {},
     "output_type": "execute_result"
    }
   ],
   "source": [
    "calibrated_clf=CalibratedClassifierCV(xgb_model,method='sigmoid',n_jobs=-1)\n",
    "calibrated_clf.fit(df_final_train,y_train)"
   ]
  },
  {
   "cell_type": "code",
   "execution_count": 16,
   "id": "92f4efcb",
   "metadata": {},
   "outputs": [],
   "source": [
    "y_pred_train=calibrated_clf.predict(df_final_train)\n",
    "y_pred_test=calibrated_clf.predict(df_final_test)"
   ]
  },
  {
   "cell_type": "code",
   "execution_count": 19,
   "id": "7b239c32",
   "metadata": {},
   "outputs": [],
   "source": [
    "f1_train=f1_score(y_train,y_pred_train)\n",
    "f1_test=f1_score(y_test,y_pred_test)"
   ]
  },
  {
   "cell_type": "code",
   "execution_count": 20,
   "id": "bce70038",
   "metadata": {},
   "outputs": [
    {
     "name": "stdout",
     "output_type": "stream",
     "text": [
      "The F1 score of train data is : 0.9749769804409637\n",
      "The F1 score of test data is  : 0.9263256687001408\n"
     ]
    }
   ],
   "source": [
    "print('The F1 score of train data is :',(f1_train))\n",
    "print('The F1 score of test data is  :',(f1_test))"
   ]
  },
  {
   "cell_type": "code",
   "execution_count": null,
   "id": "fedf20a0",
   "metadata": {},
   "outputs": [],
   "source": []
  },
  {
   "cell_type": "code",
   "execution_count": 21,
   "id": "e47f603c",
   "metadata": {},
   "outputs": [],
   "source": [
    "from sklearn.metrics import confusion_matrix\n",
    "def plot_confusion_matrix(test_y, predict_y):\n",
    "    C = confusion_matrix(test_y, predict_y)\n",
    "    \n",
    "    A =(((C.T)/(C.sum(axis=1))).T)\n",
    "    \n",
    "    B =(C/C.sum(axis=0))\n",
    "    plt.figure(figsize=(20,4))\n",
    "    \n",
    "    labels = [0,1]\n",
    "    # representing A in heatmap format\n",
    "    cmap=sns.light_palette(\"blue\")\n",
    "    plt.subplot(1, 3, 1)\n",
    "    sns.heatmap(C, annot=True, cmap=cmap, fmt=\".3f\", xticklabels=labels, yticklabels=labels)\n",
    "    plt.xlabel('Predicted Class')\n",
    "    plt.ylabel('Original Class')\n",
    "    plt.title(\"Confusion matrix\")\n",
    "    \n",
    "    plt.subplot(1, 3, 2)\n",
    "    sns.heatmap(B, annot=True, cmap=cmap, fmt=\".3f\", xticklabels=labels, yticklabels=labels)\n",
    "    plt.xlabel('Predicted Class')\n",
    "    plt.ylabel('Original Class')\n",
    "    plt.title(\"Precision matrix\")\n",
    "    \n",
    "    plt.subplot(1, 3, 3)\n",
    "    # representing B in heatmap format\n",
    "    sns.heatmap(A, annot=True, cmap=cmap, fmt=\".3f\", xticklabels=labels, yticklabels=labels)\n",
    "    plt.xlabel('Predicted Class')\n",
    "    plt.ylabel('Original Class')\n",
    "    plt.title(\"Recall matrix\")\n",
    "    \n",
    "    plt.show()"
   ]
  },
  {
   "cell_type": "code",
   "execution_count": 22,
   "id": "52cc1ebe",
   "metadata": {},
   "outputs": [
    {
     "data": {
      "image/png": "[encoded data removed]",
      "text/plain": [
       "<Figure size 1440x288 with 6 Axes>"
      ]
     },
     "metadata": {
      "needs_background": "light"
     },
     "output_type": "display_data"
    }
   ],
   "source": [
    "plot_confusion_matrix(y_train,y_pred_train)"
   ]
  },
  {
   "cell_type": "code",
   "execution_count": 23,
   "id": "d0d86294",
   "metadata": {},
   "outputs": [
    {
     "data": {
      "image/png": "[encoded data removed]",
      "text/plain": [
       "<Figure size 1440x288 with 6 Axes>"
      ]
     },
     "metadata": {
      "needs_background": "light"
     },
     "output_type": "display_data"
    }
   ],
   "source": [
    "plot_confusion_matrix(y_test,y_pred_test)\n"
   ]
  },
  {
   "cell_type": "code",
   "execution_count": null,
   "id": "0d15539f",
   "metadata": {},
   "outputs": [],
   "source": []
  },
  {
   "cell_type": "code",
   "execution_count": null,
   "id": "a5adab40",
   "metadata": {},
   "outputs": [],
   "source": []
  },
  {
   "cell_type": "code",
   "execution_count": 24,
   "id": "627d43db",
   "metadata": {},
   "outputs": [
    {
     "data": {
      "image/png": "[encoded data removed]",
      "text/plain": [
       "<Figure size 432x288 with 1 Axes>"
      ]
     },
     "metadata": {
      "needs_background": "light"
     },
     "output_type": "display_data"
    }
   ],
   "source": [
    "fpr,tpr,ths = roc_curve(y_train,y_pred_train)\n",
    "auc_sc = auc(fpr, tpr)\n",
    "plt.plot(fpr, tpr, color='navy',label='ROC curve (area = %0.2f)' % auc_sc)\n",
    "plt.xlabel('False Positive Rate')\n",
    "plt.ylabel('True Positive Rate')\n",
    "plt.title('Receiver operating characteristic with test data')\n",
    "plt.legend()\n",
    "plt.show()"
   ]
  },
  {
   "cell_type": "code",
   "execution_count": 25,
   "id": "79c2207a",
   "metadata": {},
   "outputs": [
    {
     "data": {
      "image/png": "[encoded data removed]",
      "text/plain": [
       "<Figure size 432x288 with 1 Axes>"
      ]
     },
     "metadata": {
      "needs_background": "light"
     },
     "output_type": "display_data"
    }
   ],
   "source": [
    "fpr,tpr,ths = roc_curve(y_test,y_pred_test)\n",
    "auc_sc = auc(fpr, tpr)\n",
    "plt.plot(fpr, tpr, color='navy',label='ROC curve (area = %0.2f)' % auc_sc)\n",
    "plt.xlabel('False Positive Rate')\n",
    "plt.ylabel('True Positive Rate')\n",
    "plt.title('Receiver operating characteristic with test data')\n",
    "plt.legend()\n",
    "plt.show()"
   ]
  },
  {
   "cell_type": "code",
   "execution_count": null,
   "id": "873a147a",
   "metadata": {},
   "outputs": [],
   "source": []
  },
  {
   "cell_type": "code",
   "execution_count": null,
   "id": "e7087109",
   "metadata": {},
   "outputs": [],
   "source": []
  },
  {
   "cell_type": "code",
   "execution_count": null,
   "id": "a55da752",
   "metadata": {},
   "outputs": [],
   "source": []
  },
  {
   "cell_type": "markdown",
   "id": "da54b081",
   "metadata": {},
   "source": [
    "# FEATURE IMPORTANCES"
   ]
  },
  {
   "cell_type": "code",
   "execution_count": 26,
   "id": "bd1edc2c",
   "metadata": {
    "scrolled": true
   },
   "outputs": [
    {
     "data": {
      "image/png": "[encoded data removed]",
      "text/plain": [
       "<Figure size 720x864 with 1 Axes>"
      ]
     },
     "metadata": {
      "needs_background": "light"
     },
     "output_type": "display_data"
    }
   ],
   "source": [
    "features = df_final_train.columns\n",
    "importances = xgb_model.feature_importances_\n",
    "indices = (np.argsort(importances))[-52:]\n",
    "plt.figure(figsize=(10,12))\n",
    "plt.title('Feature Importances')\n",
    "plt.barh(range(len(indices)), importances[indices], color='r', align='center')\n",
    "plt.yticks(range(len(indices)), [features[i] for i in indices])\n",
    "plt.xlabel('Relative Importance')\n",
    "plt.show()"
   ]
  },
  {
   "cell_type": "code",
   "execution_count": null,
   "id": "961f1f06",
   "metadata": {},
   "outputs": [],
   "source": []
  }
 ],
 "metadata": {
  "kernelspec": {
   "display_name": "Python 3",
   "language": "python",
   "name": "python3"
  },
  "language_info": {
   "codemirror_mode": {
    "name": "ipython",
    "version": 3
   },
   "file_extension": ".py",
   "mimetype": "text/x-python",
   "name": "python",
   "nbconvert_exporter": "python",
   "pygments_lexer": "ipython3",
   "version": "3.8.8"
  }
 },
 "nbformat": 4,
 "nbformat_minor": 5
}
